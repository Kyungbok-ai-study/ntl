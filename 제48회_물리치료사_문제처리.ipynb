{
  "nbformat": 4,
  "nbformat_minor": 0,
  "metadata": {
    "colab": {
      "provenance": [],
      "authorship_tag": "ABX9TyPw+aTivtAcSxc872XVDTg6",
      "include_colab_link": true
    },
    "kernelspec": {
      "name": "python3",
      "display_name": "Python 3"
    },
    "language_info": {
      "name": "python"
    }
  },
  "cells": [
    {
      "cell_type": "markdown",
      "metadata": {
        "id": "view-in-github",
        "colab_type": "text"
      },
      "source": [
        "<a href=\"https://colab.research.google.com/github/Kyungbok-ai-study/ntl/blob/main/%EC%A0%9C48%ED%9A%8C_%EB%AC%BC%EB%A6%AC%EC%B9%98%EB%A3%8C%EC%82%AC_%EB%AC%B8%EC%A0%9C%EC%B2%98%EB%A6%AC.ipynb\" target=\"_parent\"><img src=\"https://colab.research.google.com/assets/colab-badge.svg\" alt=\"Open In Colab\"/></a>"
      ]
    },
    {
      "cell_type": "markdown",
      "source": [
        "## 1. 파일 업로드 및 환경 설정\n",
        "\n",
        "Google Colab에 서비스 계정 키(`.json`)와 OCR할 PDF 파일을 업로드합니다.  \n",
        "그 다음, 필요한 패키지를 설치합니다.\n",
        "\n",
        "- `.json`: Google Cloud Vision API 키 파일\n",
        "- `.pdf`: 스캔된 시험지 원본 파일\n",
        "- `poppler-utils`: PDF → 이미지 변환을 위한 도구\n",
        "- `google-cloud-vision`, `pdf2image`, `google-cloud-storage`: OCR 및 스토리지 연동용 라이브러리\n",
        "\n",
        "🔧 실행 후 필요한 모든 파일과 도구가 준비됩니다.\n"
      ],
      "metadata": {
        "id": "j84cFTPL1ir5"
      }
    },
    {
      "cell_type": "code",
      "execution_count": 1,
      "metadata": {
        "colab": {
          "base_uri": "https://localhost:8080/",
          "height": 146
        },
        "id": "LsjzjD1BNbiF",
        "outputId": "6b7bc1bf-0e19-4a51-c6a8-025139c1e2e6"
      },
      "outputs": [
        {
          "output_type": "display_data",
          "data": {
            "text/plain": [
              "<IPython.core.display.HTML object>"
            ],
            "text/html": [
              "\n",
              "     <input type=\"file\" id=\"files-d409aba1-2b7c-493b-b1f8-7ae9b5afd99b\" name=\"files[]\" multiple disabled\n",
              "        style=\"border:none\" />\n",
              "     <output id=\"result-d409aba1-2b7c-493b-b1f8-7ae9b5afd99b\">\n",
              "      Upload widget is only available when the cell has been executed in the\n",
              "      current browser session. Please rerun this cell to enable.\n",
              "      </output>\n",
              "      <script>// Copyright 2017 Google LLC\n",
              "//\n",
              "// Licensed under the Apache License, Version 2.0 (the \"License\");\n",
              "// you may not use this file except in compliance with the License.\n",
              "// You may obtain a copy of the License at\n",
              "//\n",
              "//      http://www.apache.org/licenses/LICENSE-2.0\n",
              "//\n",
              "// Unless required by applicable law or agreed to in writing, software\n",
              "// distributed under the License is distributed on an \"AS IS\" BASIS,\n",
              "// WITHOUT WARRANTIES OR CONDITIONS OF ANY KIND, either express or implied.\n",
              "// See the License for the specific language governing permissions and\n",
              "// limitations under the License.\n",
              "\n",
              "/**\n",
              " * @fileoverview Helpers for google.colab Python module.\n",
              " */\n",
              "(function(scope) {\n",
              "function span(text, styleAttributes = {}) {\n",
              "  const element = document.createElement('span');\n",
              "  element.textContent = text;\n",
              "  for (const key of Object.keys(styleAttributes)) {\n",
              "    element.style[key] = styleAttributes[key];\n",
              "  }\n",
              "  return element;\n",
              "}\n",
              "\n",
              "// Max number of bytes which will be uploaded at a time.\n",
              "const MAX_PAYLOAD_SIZE = 100 * 1024;\n",
              "\n",
              "function _uploadFiles(inputId, outputId) {\n",
              "  const steps = uploadFilesStep(inputId, outputId);\n",
              "  const outputElement = document.getElementById(outputId);\n",
              "  // Cache steps on the outputElement to make it available for the next call\n",
              "  // to uploadFilesContinue from Python.\n",
              "  outputElement.steps = steps;\n",
              "\n",
              "  return _uploadFilesContinue(outputId);\n",
              "}\n",
              "\n",
              "// This is roughly an async generator (not supported in the browser yet),\n",
              "// where there are multiple asynchronous steps and the Python side is going\n",
              "// to poll for completion of each step.\n",
              "// This uses a Promise to block the python side on completion of each step,\n",
              "// then passes the result of the previous step as the input to the next step.\n",
              "function _uploadFilesContinue(outputId) {\n",
              "  const outputElement = document.getElementById(outputId);\n",
              "  const steps = outputElement.steps;\n",
              "\n",
              "  const next = steps.next(outputElement.lastPromiseValue);\n",
              "  return Promise.resolve(next.value.promise).then((value) => {\n",
              "    // Cache the last promise value to make it available to the next\n",
              "    // step of the generator.\n",
              "    outputElement.lastPromiseValue = value;\n",
              "    return next.value.response;\n",
              "  });\n",
              "}\n",
              "\n",
              "/**\n",
              " * Generator function which is called between each async step of the upload\n",
              " * process.\n",
              " * @param {string} inputId Element ID of the input file picker element.\n",
              " * @param {string} outputId Element ID of the output display.\n",
              " * @return {!Iterable<!Object>} Iterable of next steps.\n",
              " */\n",
              "function* uploadFilesStep(inputId, outputId) {\n",
              "  const inputElement = document.getElementById(inputId);\n",
              "  inputElement.disabled = false;\n",
              "\n",
              "  const outputElement = document.getElementById(outputId);\n",
              "  outputElement.innerHTML = '';\n",
              "\n",
              "  const pickedPromise = new Promise((resolve) => {\n",
              "    inputElement.addEventListener('change', (e) => {\n",
              "      resolve(e.target.files);\n",
              "    });\n",
              "  });\n",
              "\n",
              "  const cancel = document.createElement('button');\n",
              "  inputElement.parentElement.appendChild(cancel);\n",
              "  cancel.textContent = 'Cancel upload';\n",
              "  const cancelPromise = new Promise((resolve) => {\n",
              "    cancel.onclick = () => {\n",
              "      resolve(null);\n",
              "    };\n",
              "  });\n",
              "\n",
              "  // Wait for the user to pick the files.\n",
              "  const files = yield {\n",
              "    promise: Promise.race([pickedPromise, cancelPromise]),\n",
              "    response: {\n",
              "      action: 'starting',\n",
              "    }\n",
              "  };\n",
              "\n",
              "  cancel.remove();\n",
              "\n",
              "  // Disable the input element since further picks are not allowed.\n",
              "  inputElement.disabled = true;\n",
              "\n",
              "  if (!files) {\n",
              "    return {\n",
              "      response: {\n",
              "        action: 'complete',\n",
              "      }\n",
              "    };\n",
              "  }\n",
              "\n",
              "  for (const file of files) {\n",
              "    const li = document.createElement('li');\n",
              "    li.append(span(file.name, {fontWeight: 'bold'}));\n",
              "    li.append(span(\n",
              "        `(${file.type || 'n/a'}) - ${file.size} bytes, ` +\n",
              "        `last modified: ${\n",
              "            file.lastModifiedDate ? file.lastModifiedDate.toLocaleDateString() :\n",
              "                                    'n/a'} - `));\n",
              "    const percent = span('0% done');\n",
              "    li.appendChild(percent);\n",
              "\n",
              "    outputElement.appendChild(li);\n",
              "\n",
              "    const fileDataPromise = new Promise((resolve) => {\n",
              "      const reader = new FileReader();\n",
              "      reader.onload = (e) => {\n",
              "        resolve(e.target.result);\n",
              "      };\n",
              "      reader.readAsArrayBuffer(file);\n",
              "    });\n",
              "    // Wait for the data to be ready.\n",
              "    let fileData = yield {\n",
              "      promise: fileDataPromise,\n",
              "      response: {\n",
              "        action: 'continue',\n",
              "      }\n",
              "    };\n",
              "\n",
              "    // Use a chunked sending to avoid message size limits. See b/62115660.\n",
              "    let position = 0;\n",
              "    do {\n",
              "      const length = Math.min(fileData.byteLength - position, MAX_PAYLOAD_SIZE);\n",
              "      const chunk = new Uint8Array(fileData, position, length);\n",
              "      position += length;\n",
              "\n",
              "      const base64 = btoa(String.fromCharCode.apply(null, chunk));\n",
              "      yield {\n",
              "        response: {\n",
              "          action: 'append',\n",
              "          file: file.name,\n",
              "          data: base64,\n",
              "        },\n",
              "      };\n",
              "\n",
              "      let percentDone = fileData.byteLength === 0 ?\n",
              "          100 :\n",
              "          Math.round((position / fileData.byteLength) * 100);\n",
              "      percent.textContent = `${percentDone}% done`;\n",
              "\n",
              "    } while (position < fileData.byteLength);\n",
              "  }\n",
              "\n",
              "  // All done.\n",
              "  yield {\n",
              "    response: {\n",
              "      action: 'complete',\n",
              "    }\n",
              "  };\n",
              "}\n",
              "\n",
              "scope.google = scope.google || {};\n",
              "scope.google.colab = scope.google.colab || {};\n",
              "scope.google.colab._files = {\n",
              "  _uploadFiles,\n",
              "  _uploadFilesContinue,\n",
              "};\n",
              "})(self);\n",
              "</script> "
            ]
          },
          "metadata": {}
        },
        {
          "output_type": "stream",
          "name": "stdout",
          "text": [
            "Saving ntlkbuai-9302f377d55f.json to ntlkbuai-9302f377d55f.json\n",
            "Saving 2020년도 제48회 물리치료사 국가시험_1교시(홀수형).pdf to 2020년도 제48회 물리치료사 국가시험_1교시(홀수형).pdf\n"
          ]
        }
      ],
      "source": [
        "from google.colab import files\n",
        "uploaded = files.upload()  #컴퓨터에서 .json 파일을 선택하세요\n"
      ]
    },
    {
      "cell_type": "code",
      "source": [
        "!apt-get install -y poppler-utils\n",
        "!pip install --upgrade google-cloud-vision pdf2image google-cloud-storage"
      ],
      "metadata": {
        "colab": {
          "base_uri": "https://localhost:8080/"
        },
        "collapsed": true,
        "id": "rck9VSYnOLnY",
        "outputId": "6140f420-127c-4e0d-e870-d8459c0ebbfc"
      },
      "execution_count": 3,
      "outputs": [
        {
          "output_type": "stream",
          "name": "stdout",
          "text": [
            "Reading package lists... Done\n",
            "Building dependency tree... Done\n",
            "Reading state information... Done\n",
            "The following NEW packages will be installed:\n",
            "  poppler-utils\n",
            "0 upgraded, 1 newly installed, 0 to remove and 34 not upgraded.\n",
            "Need to get 0 B/186 kB of archives.\n",
            "After this operation, 697 kB of additional disk space will be used.\n",
            "Selecting previously unselected package poppler-utils.\n",
            "(Reading database ... 126102 files and directories currently installed.)\n",
            "Preparing to unpack .../poppler-utils_22.02.0-2ubuntu0.8_amd64.deb ...\n",
            "Unpacking poppler-utils (22.02.0-2ubuntu0.8) ...\n",
            "Setting up poppler-utils (22.02.0-2ubuntu0.8) ...\n",
            "Processing triggers for man-db (2.10.2-1) ...\n"
          ]
        }
      ]
    },
    {
      "cell_type": "markdown",
      "source": [
        "## 2. PDF 페이지 분할 및 Google Vision OCR 실행\n",
        "\n",
        "이 단계에서는 스캔된 PDF 파일을 이미지로 변환하고, 각 페이지에서 텍스트를 추출(OCR)합니다.\n",
        "\n",
        "- 첫 번째 페이지는 안내문이므로 전체 OCR 수행\n",
        "- 2페이지부터는 2단 레이아웃을 고려하여 좌/우로 나누어 OCR 수행\n",
        "- 상단(Header)과 하단(Footer)은 비율 기준으로 제거하여 노이즈를 줄임\n",
        "- OCR 결과는 `output/page_번호.txt` 형태로 저장\n",
        "\n",
        "📌 사용 기술:\n",
        "- `pdf2image` : PDF → 이미지 변환\n",
        "- `OpenCV` : 이미지 자르기 및 저장\n",
        "- `Google Cloud Vision API` : OCR (문서 텍스트 인식)\n",
        "\n",
        "```python\n",
        "run_ocr()           # Vision API를 이용한 텍스트 추출 함수\n",
        "crop_and_split_image()  # 상하단 제거 + 좌우 나누기 함수\n"
      ],
      "metadata": {
        "id": "dPvmYf-5139_"
      }
    },
    {
      "cell_type": "code",
      "source": [
        "import os\n",
        "import cv2\n",
        "import io\n",
        "from pdf2image import convert_from_path\n",
        "from google.cloud import vision\n",
        "\n",
        "# API 키 경로 설정\n",
        "os.environ[\"GOOGLE_APPLICATION_CREDENTIALS\"] = \"/content/ntlkbuai-9302f377d55f.json\"  # ⚠️ 파일 경로를 정확히 지정하세요\n",
        "\n",
        "#이미지 저장 폴더 생성\n",
        "os.makedirs(\"pages\", exist_ok=True)\n",
        "os.makedirs(\"output\", exist_ok=True)\n",
        "\n",
        "# Google Vision OCR 함수 정의\n",
        "def run_ocr(image_path):\n",
        "    with io.open(image_path, 'rb') as image_file:\n",
        "        content = image_file.read()\n",
        "    image = vision.Image(content=content)\n",
        "    response = vision_client.document_text_detection(image=image)\n",
        "    return response.full_text_annotation.text\n",
        "\n",
        "# 이미지에서 헤더/푸터 제거 후 좌/우로 분할\n",
        "def crop_and_split_image(img_path, header_ratio=0.12, footer_ratio=0.1):\n",
        "    img = cv2.imread(img_path)\n",
        "    h, w = img.shape[:2]\n",
        "\n",
        "    top = int(h * header_ratio)\n",
        "    bottom = h - int(h * footer_ratio)\n",
        "    main_body = img[top:bottom, :]\n",
        "\n",
        "    mid = w // 2\n",
        "    left = main_body[:, :mid]\n",
        "    right = main_body[:, mid:]\n",
        "\n",
        "    prefix = img_path.replace(\".png\", \"\")\n",
        "    left_path = f\"{prefix}_left.png\"\n",
        "    right_path = f\"{prefix}_right.png\"\n",
        "\n",
        "    cv2.imwrite(left_path, left)\n",
        "    cv2.imwrite(right_path, right)\n",
        "\n",
        "    return left_path, right_path\n",
        "\n",
        "# Vision API 클라이언트 초기화\n",
        "vision_client = vision.ImageAnnotatorClient()\n",
        "\n",
        "# PDF 파일을 이미지로 변환\n",
        "pdf_path = \"/content/2020년도 제48회 물리치료사 국가시험_1교시(홀수형).pdf\"\n",
        "images = convert_from_path(pdf_path, dpi=300)\n",
        "\n",
        "# 각 페이지를 OCR 처리\n",
        "for i, img in enumerate(images):\n",
        "    page_num = i + 1\n",
        "    img_path = f\"pages/page_{page_num}.png\"\n",
        "    img.save(img_path)\n",
        "\n",
        "    if page_num == 1:\n",
        "        # 첫 페이지는 분할 없이 전체 OCR\n",
        "        full_text = run_ocr(img_path)\n",
        "    else:\n",
        "        # 2페이지부터는 좌우로 나누어 OCR\n",
        "        left_img, right_img = crop_and_split_image(img_path)\n",
        "        text_left = run_ocr(left_img)\n",
        "        text_right = run_ocr(right_img)\n",
        "        full_text = f\"{text_left.strip()}\\n{text_right.strip()}\"\n",
        "\n",
        "    # 텍스트 파일로 저장\n",
        "    with open(f\"output/page_{page_num}.txt\", \"w\", encoding=\"utf-8\") as f:\n",
        "        f.write(full_text)\n",
        "\n",
        "    print(f\"✅ 페이지 {page_num} 처리 완료\")\n"
      ],
      "metadata": {
        "colab": {
          "base_uri": "https://localhost:8080/"
        },
        "collapsed": true,
        "id": "AWv1pcF1OA6v",
        "outputId": "31ec61c5-23bd-45d2-ce22-fb6af77c90ed"
      },
      "execution_count": 32,
      "outputs": [
        {
          "output_type": "stream",
          "name": "stdout",
          "text": [
            "✅ 페이지 1 처리 완료\n",
            "✅ 페이지 2 처리 완료\n",
            "✅ 페이지 3 처리 완료\n",
            "✅ 페이지 4 처리 완료\n",
            "✅ 페이지 5 처리 완료\n",
            "✅ 페이지 6 처리 완료\n",
            "✅ 페이지 7 처리 완료\n",
            "✅ 페이지 8 처리 완료\n",
            "✅ 페이지 9 처리 완료\n",
            "✅ 페이지 10 처리 완료\n",
            "✅ 페이지 11 처리 완료\n",
            "✅ 페이지 12 처리 완료\n"
          ]
        }
      ]
    },
    {
      "cell_type": "markdown",
      "source": [
        "## 🧠 3. 질문 및 보기를 블록에서 분리\n",
        "\n",
        "이 단계에서는 각 문항 블록을 처리하여:\n",
        "- 문제 본문과 보기(①~⑤ 또는 1~5)를 구분하고\n",
        "- 보기 번호는 제거한 후 내용만 남깁니다.\n",
        "- 최종적으로 `question_id`, `질문`, `보기가 담긴 리스트` 형식으로 저장합니다.\n",
        "\n",
        "📌 주요 처리:\n",
        "- `dap_an_start`: 정답이 시작되는 줄 번호 찾기\n",
        "- 글머리 기호(`•`, `○`, `-` 등)가 있으면 줄 단위로 나누고, 없으면 이전 줄에 이어 붙임\n",
        "- 정답 부분은 정규표현식으로 ①, ②, ③ 등으로 분리\n",
        "- 번호(①, 1 등)는 제거 후 내용만 저장\n",
        "\n",
        "📤 결과는 `all_questions` 리스트에 추가되며, 이후 JSON 파일로 저장됩니다.\n"
      ],
      "metadata": {
        "id": "iNvFXAFk3_te"
      }
    },
    {
      "cell_type": "code",
      "source": [
        "import os\n",
        "import re\n",
        "import json\n",
        "\n",
        "# 📁 1단계: page_1.txt부터 page_12.txt까지 내용을 하나로 합치기\n",
        "folder = \"/content/output\"\n",
        "full_text = \"\"\n",
        "\n",
        "for i in range(1, 13):\n",
        "    file_path = os.path.join(folder, f\"page_{i}.txt\")\n",
        "    if os.path.exists(file_path):\n",
        "        with open(file_path, encoding=\"utf-8\") as f:\n",
        "            full_text += f.read() + \"\\n\"  # ✅ 줄바꿈과 형식을 그대로 유지함\n",
        "    else:\n",
        "        print(f\"⚠️ 파일을 찾을 수 없습니다: {file_path}\")\n"
      ],
      "metadata": {
        "id": "RVr0NeMcOER8"
      },
      "execution_count": 40,
      "outputs": []
    },
    {
      "cell_type": "code",
      "source": [
        "# \"숫자. ...\" 형식으로 시작해서 다음 숫자 앞까지 또는 EOF까지 블록으로 추출\n",
        "pattern = r'(\\d+\\.\\s.*?)(?=\\n\\d+\\.\\s|$)'\n",
        "blocks = re.findall(pattern, full_text, flags=re.DOTALL)\n",
        "\n",
        "all_questions = []  # 모든 문제를 저장할 리스트\n"
      ],
      "metadata": {
        "id": "IVfBA0C8P5z6"
      },
      "execution_count": 41,
      "outputs": []
    },
    {
      "cell_type": "code",
      "source": [
        "for idx, block in enumerate(blocks, start=1):\n",
        "    lines = block.strip().split(\"\\n\")\n",
        "\n",
        "    # 정답이 시작되는 줄 번호 찾기\n",
        "    ans_start = -1\n",
        "    for i, line in enumerate(lines):\n",
        "        if re.match(r'^(①|②|③|④|⑤|\\d\\s)', line.strip()):\n",
        "            ans_start = i\n",
        "            break\n",
        "\n",
        "    if ans_start == -1 or ans_start < 1:\n",
        "        print(f\"⚠️ 문제 {idx}의 정답 부분을 찾을 수 없습니다.\")\n",
        "        continue\n",
        "\n",
        "    # ✅ 문제 부분 정리: 줄바꿈은 유지하고, 글머리 기호는 제거\n",
        "    ques_lines = lines[:ans_start]\n",
        "\n",
        "    cleaned_lines = []\n",
        "    buffer = \"\"\n",
        "\n",
        "    for line in ques_lines:\n",
        "        line = line.strip()\n",
        "\n",
        "        if re.match(r'^[•\\-\\–●▪︎▶️★◆■☑︎✔︎➤➔❖➣➢○]+\\s*', line):\n",
        "            # 이전 줄이 연결 중이라면 저장\n",
        "            if buffer:\n",
        "                cleaned_lines.append(buffer.strip())\n",
        "                buffer = \"\"\n",
        "            # 글머리 기호 제거 후 줄 저장\n",
        "            line = re.sub(r'^[•\\-\\–●▪︎▶️★◆■☑︎✔︎➤➔❖➣➢○]+\\s*', '', line)\n",
        "            cleaned_lines.append(line.strip())\n",
        "        else:\n",
        "            # 일반 줄이면 이전 줄에 이어 붙이기\n",
        "            buffer += \" \" + line\n",
        "\n",
        "    if buffer:\n",
        "        cleaned_lines.append(buffer.strip())\n",
        "\n",
        "    question = \"\\n\".join(cleaned_lines).strip()\n",
        "\n",
        "    # 정답 처리\n",
        "    ans_lines = lines[ans_start:]\n",
        "    ans_raw = \"\\n\".join(ans_lines)\n",
        "\n",
        "    raw_ans = re.findall(\n",
        "        r'(?:①|1)\\s?.*?(?=(?:②|2)\\s|$)|'\n",
        "        r'(?:②|2)\\s?.*?(?=(?:③|3)\\s|$)|'\n",
        "        r'(?:③|3)\\s?.*?(?=(?:④|4)\\s|$)|'\n",
        "        r'(?:④|4)\\s?.*?(?=(?:⑤|5)\\s|$)|'\n",
        "        r'(?:⑤|5)\\s?.*',\n",
        "        ans_raw,\n",
        "        flags=re.DOTALL\n",
        "    )\n",
        "\n",
        "    # 각 보기에서 번호 제거\n",
        "    answer = [\n",
        "        re.sub(r'^(①|②|③|④|⑤|[1-5])[\\s:.\\-–]*', '', d.strip())\n",
        "        for d in raw_ans\n",
        "    ]\n",
        "\n",
        "    all_questions.append({\n",
        "        \"question_id\": idx,\n",
        "        \"question\": question,\n",
        "        \"answer\": answer\n",
        "    })\n"
      ],
      "metadata": {
        "id": "oJMuFBIYSVQw"
      },
      "execution_count": 42,
      "outputs": []
    },
    {
      "cell_type": "code",
      "source": [
        "# 📁 JSON 파일로 저장\n",
        "with open(\"48th_exam_full.json\", \"w\", encoding=\"utf-8\") as f:\n",
        "    json.dump(all_questions, f, ensure_ascii=False, indent=2)\n",
        "\n",
        "print(f\"\\n✅ 완료: 총 {len(all_questions)}개의 문항을 12페이지에서 추출했습니다.\")\n"
      ],
      "metadata": {
        "colab": {
          "base_uri": "https://localhost:8080/"
        },
        "id": "RRnpQX0lSXkA",
        "outputId": "d72521a3-3e5a-4b42-9347-3e68c76d7c13"
      },
      "execution_count": 43,
      "outputs": [
        {
          "output_type": "stream",
          "name": "stdout",
          "text": [
            "\n",
            "✅ 완료: 총 105개의 문항을 12페이지에서 추출했습니다.\n"
          ]
        }
      ]
    },
    {
      "cell_type": "code",
      "source": [
        "import json\n",
        "\n",
        "# 저장된 JSON 파일 읽기\n",
        "with open(\"48th_exam_full.json\", \"r\", encoding=\"utf-8\") as f:\n",
        "    data = json.load(f)\n",
        "\n",
        "# 5번 문항 출력 (파이썬 인덱스는 0부터 시작하므로 data[4])\n",
        "question = data[104]\n",
        "\n",
        "print(\"🧾 질문:\")\n",
        "print(question[\"question\"])\n",
        "print(\"\\n📌 보기:\")\n",
        "for i, option in enumerate(question[\"answer\"], 1):\n",
        "    print(f\"{i}. {option}\")\n"
      ],
      "metadata": {
        "colab": {
          "base_uri": "https://localhost:8080/"
        },
        "id": "kA3xP2gqfnB5",
        "outputId": "2ab5020f-37c6-43eb-b544-21ee0a50dd7b"
      },
      "execution_count": 46,
      "outputs": [
        {
          "output_type": "stream",
          "name": "stdout",
          "text": [
            "🧾 질문:\n",
            "105. 다음의 환자에게 필요한 검사는?\n",
            "\n",
            "72세 남자 환자가 뇌졸중 후 집 안에서 일상생활활동을\n",
            "독립적으로 수행함 . 최근 걸을 때 흔들림으로 낙상에 대해 두려워 함\n",
            "\n",
            "환자는 현재 팔과 다리의 기능 및 감각 상태를 확인하고 싶어 함\n",
            "\n",
            "기능적팔뻗기 검사에서 범위가 8~12cm로 나타남\n",
            "\n",
            "📌 보기:\n",
            "1. 아프가스코어(APGAR score)\n",
            "2. ESCROW 프로파일(ESCROW profile)\n",
            "3. 수정된 바델 지수(modified Barthel index)\n",
            "4. 퓨글-마이어 평가(Fugl-Meyer assessment)\n",
            "5. 울프 운동기능검사(Wolf motor function test)\n",
            "1교시 종료\n"
          ]
        }
      ]
    },
    {
      "cell_type": "code",
      "source": [],
      "metadata": {
        "id": "-odNKXK6fnEh"
      },
      "execution_count": null,
      "outputs": []
    },
    {
      "cell_type": "code",
      "source": [],
      "metadata": {
        "id": "Wq4XNT-nkpyr"
      },
      "execution_count": null,
      "outputs": []
    }
  ]
}